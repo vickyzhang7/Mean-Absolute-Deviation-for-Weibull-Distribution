{
 "cells": [
  {
   "cell_type": "code",
   "execution_count": null,
   "id": "c1b7470c",
   "metadata": {},
   "outputs": [],
   "source": []
  },
  {
   "cell_type": "code",
   "execution_count": 4,
   "id": "cf7c4953",
   "metadata": {},
   "outputs": [
    {
     "name": "stdout",
     "output_type": "stream",
     "text": [
      "k=1, exact_H: 1.26, approx_H: 0.86, rel_error: 32.03%, sigma: 1.00, exact_H/sigma: 1.26\n",
      "k=2, exact_H: 0.79, approx_H: 0.71, rel_error: 10.03%, sigma: 0.46, exact_H/sigma: 1.71\n",
      "k=3, exact_H: 0.57, approx_H: 0.54, rel_error: 4.74%, sigma: 0.32, exact_H/sigma: 1.75\n",
      "k=4, exact_H: 0.44, approx_H: 0.43, rel_error: 2.74%, sigma: 0.25, exact_H/sigma: 1.74\n",
      "k=5, exact_H: 0.36, approx_H: 0.36, rel_error: 1.78%, sigma: 0.21, exact_H/sigma: 1.73\n",
      "k=6, exact_H: 0.31, approx_H: 0.30, rel_error: 1.25%, sigma: 0.18, exact_H/sigma: 1.71\n",
      "k=7, exact_H: 0.27, approx_H: 0.26, rel_error: 0.92%, sigma: 0.16, exact_H/sigma: 1.70\n",
      "k=8, exact_H: 0.24, approx_H: 0.23, rel_error: 0.71%, sigma: 0.14, exact_H/sigma: 1.68\n",
      "k=9, exact_H: 0.21, approx_H: 0.21, rel_error: 0.56%, sigma: 0.13, exact_H/sigma: 1.67\n",
      "k=10, exact_H: 0.19, approx_H: 0.19, rel_error: 0.46%, sigma: 0.11, exact_H/sigma: 1.66\n",
      "k=15, exact_H: 0.13, approx_H: 0.13, rel_error: 0.21%, sigma: 0.08, exact_H/sigma: 1.63\n",
      "k=20, exact_H: 0.10, approx_H: 0.10, rel_error: 0.12%, sigma: 0.06, exact_H/sigma: 1.62\n",
      "k=25, exact_H: 0.08, approx_H: 0.08, rel_error: 0.07%, sigma: 0.05, exact_H/sigma: 1.61\n",
      "k=30, exact_H: 0.07, approx_H: 0.07, rel_error: 0.05%, sigma: 0.04, exact_H/sigma: 1.60\n",
      "k=35, exact_H: 0.06, approx_H: 0.06, rel_error: 0.04%, sigma: 0.04, exact_H/sigma: 1.59\n"
     ]
    }
   ],
   "source": [
    "#Previous one\n",
    "import math\n",
    "import numpy as np\n",
    "from scipy.special import gamma, gammainc\n",
    "\n",
    "euler_gamma = np.euler_gamma\n",
    "alpha = 1\n",
    "euler_gamma_exp = np.e**(-euler_gamma)\n",
    "\n",
    "for k in [1, 2, 3, 4, 5, 6, 7, 8, 9, 10, 15, 20, 25, 30, 35]:\n",
    "    gamma_1 = gamma(1 + 1.0/k)\n",
    "    gamma_2 = gamma(1 + 2.0/k)\n",
    "    st_dev = alpha * math.sqrt(gamma_2 - gamma_1 * gamma_1)  # Standard deviation using Weibull distribution formula\n",
    "    gamma_k = (gamma_1) ** k\n",
    "    exact_h = (2 * alpha / k) * gammainc(1 / k, gamma_k)\n",
    "    approx_h = (2 * alpha / k) * gammainc(1 / k, euler_gamma_exp)\n",
    "    rel_error = 100.0 * abs(approx_h - exact_h) / exact_h\n",
    "    exact_h_over_sigma = exact_h / st_dev\n",
    "\n",
    "    print(f\"k={k}, exact_H: {exact_h:.2f}, approx_H: {approx_h:.2f}, rel_error: {rel_error:.2f}%, sigma: {st_dev:.2f}, exact_H/sigma: {exact_h_over_sigma:.2f}\")\n"
   ]
  },
  {
   "cell_type": "code",
   "execution_count": 18,
   "id": "bc32d1d5",
   "metadata": {},
   "outputs": [
    {
     "name": "stdout",
     "output_type": "stream",
     "text": [
      "k=1, exact_H: 0.7358, approx_H: 1.1408, rel_error: 55.04%, sigma: 1.000, exact_H/sigma: 73.58\n",
      "k=2, exact_H: 0.3724, approx_H: 0.5128, rel_error: 37.70%, sigma: 0.463, exact_H/sigma: 80.38\n",
      "k=3, exact_H: 0.2627, approx_H: 0.3348, rel_error: 27.47%, sigma: 0.325, exact_H/sigma: 80.94\n",
      "k=4, exact_H: 0.2052, approx_H: 0.2492, rel_error: 21.46%, sigma: 0.254, exact_H/sigma: 80.68\n",
      "k=5, exact_H: 0.1689, approx_H: 0.1986, rel_error: 17.57%, sigma: 0.210, exact_H/sigma: 80.31\n",
      "k=6, exact_H: 0.1437, approx_H: 0.1651, rel_error: 14.87%, sigma: 0.180, exact_H/sigma: 79.96\n",
      "k=7, exact_H: 0.1252, approx_H: 0.1413, rel_error: 12.88%, sigma: 0.157, exact_H/sigma: 79.65\n",
      "k=8, exact_H: 0.1109, approx_H: 0.1235, rel_error: 11.35%, sigma: 0.140, exact_H/sigma: 79.39\n",
      "k=9, exact_H: 0.0996, approx_H: 0.1097, rel_error: 10.15%, sigma: 0.126, exact_H/sigma: 79.17\n",
      "k=10, exact_H: 0.0904, approx_H: 0.0987, rel_error: 9.18%, sigma: 0.114, exact_H/sigma: 78.97\n",
      "k=15, exact_H: 0.0619, approx_H: 0.0657, rel_error: 6.20%, sigma: 0.079, exact_H/sigma: 78.32\n",
      "k=20, exact_H: 0.0470, approx_H: 0.0492, rel_error: 4.68%, sigma: 0.060, exact_H/sigma: 77.95\n",
      "k=25, exact_H: 0.0379, approx_H: 0.0394, rel_error: 3.76%, sigma: 0.049, exact_H/sigma: 77.72\n",
      "k=30, exact_H: 0.0318, approx_H: 0.0328, rel_error: 3.14%, sigma: 0.041, exact_H/sigma: 77.55\n",
      "k=40, exact_H: 0.0240, approx_H: 0.0246, rel_error: 2.36%, sigma: 0.031, exact_H/sigma: 77.34\n",
      "k=50, exact_H: 0.0193, approx_H: 0.0197, rel_error: 1.89%, sigma: 0.025, exact_H/sigma: 77.21\n",
      "k=100, exact_H: 0.0097, approx_H: 0.0098, rel_error: 0.95%, sigma: 0.013, exact_H/sigma: 76.94\n",
      "k=200, exact_H: 0.0049, approx_H: 0.0049, rel_error: 0.48%, sigma: 0.006, exact_H/sigma: 76.79\n",
      "k=500, exact_H: 0.0020, approx_H: 0.0020, rel_error: 0.19%, sigma: 0.003, exact_H/sigma: 76.71\n"
     ]
    }
   ],
   "source": [
    "#new one. \n",
    "# the gammaincc integration bounds is from x to ∞: https://docs.scipy.org/doc/scipy/reference/generated/scipy.special.gammaincc.html\n",
    "# the gammainc integration bounds is from 0 to x: https://docs.scipy.org/doc/scipy/reference/generated/scipy.special.gammainc.html\n",
    "# and we need to use gammaincc * gamma\n",
    "import math\n",
    "import numpy as np\n",
    "from scipy.special import gamma, gammaincc\n",
    "\n",
    "euler_gamma = np.euler_gamma\n",
    "alpha = 1\n",
    "euler_gamma_exp = np.e**(-euler_gamma)\n",
    "\n",
    "for k in [1, 2, 3, 4, 5, 6, 7, 8, 9, 10, 15, 20, 25, 30, 40, 50,100,200,500]:\n",
    "    gamma_1 = gamma(1 + 1.0/k)\n",
    "    gamma_2 = gamma(1 + 2.0/k)\n",
    "    st_dev = alpha * math.sqrt(gamma_2 - gamma_1 * gamma_1)  # Standard deviation using Weibull distribution formula\n",
    "    \n",
    "    # Calculate the second gamma function argument\n",
    "    second_gamma_arg = gamma(1 + 1/k)**k\n",
    "    \n",
    "    # Calculate the incomplete gamma function\n",
    "    incomplete_gamma = gammaincc(1/k, second_gamma_arg) * gamma(1/k)\n",
    "\n",
    "    # Calculate H\n",
    "    exact_h = (2 * alpha / k) * incomplete_gamma\n",
    "    \n",
    "    approx_h = (2 * alpha / k) * gammaincc(1 / k, euler_gamma_exp) * gamma(1 / k)\n",
    "    rel_error = 100.0 * abs(approx_h - exact_h) / exact_h\n",
    "    exact_h_over_sigma = exact_h / st_dev*100\n",
    "\n",
    "    print(f\"k={k}, exact_H: {exact_h:.4f}, approx_H: {approx_h:.4f}, rel_error: {rel_error:.2f}%, sigma: {st_dev:.3f}, exact_H/sigma: {exact_h_over_sigma:.2f}\")\n"
   ]
  },
  {
   "cell_type": "code",
   "execution_count": null,
   "id": "0557db9c",
   "metadata": {},
   "outputs": [],
   "source": []
  },
  {
   "cell_type": "code",
   "execution_count": null,
   "id": "79f214ac",
   "metadata": {},
   "outputs": [],
   "source": []
  }
 ],
 "metadata": {
  "kernelspec": {
   "display_name": "Python 3 (ipykernel)",
   "language": "python",
   "name": "python3"
  },
  "language_info": {
   "codemirror_mode": {
    "name": "ipython",
    "version": 3
   },
   "file_extension": ".py",
   "mimetype": "text/x-python",
   "name": "python",
   "nbconvert_exporter": "python",
   "pygments_lexer": "ipython3",
   "version": "3.11.5"
  }
 },
 "nbformat": 4,
 "nbformat_minor": 5
}
